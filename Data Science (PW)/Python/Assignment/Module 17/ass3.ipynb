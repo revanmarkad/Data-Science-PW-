{
 "cells": [
  {
   "cell_type": "markdown",
   "metadata": {},
   "source": [
    "Q 3 What is multiple inheritance? write a python code to demonstrate multiple inheritaance."
   ]
  },
  {
   "cell_type": "code",
   "execution_count": 3,
   "metadata": {},
   "outputs": [
    {
     "name": "stdout",
     "output_type": "stream",
     "text": [
      "Child: Alex, Father: John, Mother: Emma\n"
     ]
    }
   ],
   "source": [
    "# Define the first parent class\n",
    "class Father:\n",
    "    def __init__(self, father_name):\n",
    "        self.father_name = father_name\n",
    "\n",
    "    def show_father(self):\n",
    "        return f\"Father: {self.father_name}\"\n",
    "\n",
    "# Define the second parent class\n",
    "class Mother:\n",
    "    def __init__(self, mother_name):\n",
    "        self.mother_name = mother_name\n",
    "\n",
    "    def show_mother(self):\n",
    "        return f\"Mother: {self.mother_name}\"\n",
    "\n",
    "# Define the child class that inherits from both Father and Mother\n",
    "class Child(Father, Mother):\n",
    "    def __init__(self, child_name, father_name, mother_name):\n",
    "        Father.__init__(self, father_name)\n",
    "        Mother.__init__(self, mother_name)\n",
    "        self.child_name = child_name\n",
    "\n",
    "    def show_family(self):\n",
    "        return f\"Child: {self.child_name}, {self.show_father()}, {self.show_mother()}\"\n",
    "\n",
    "# Example of creating an instance of the Child class and using its methods\n",
    "child = Child(\"Alex\", \"John\", \"Emma\")\n",
    "print(child.show_family())\n"
   ]
  }
 ],
 "metadata": {
  "kernelspec": {
   "display_name": "Python 3",
   "language": "python",
   "name": "python3"
  },
  "language_info": {
   "codemirror_mode": {
    "name": "ipython",
    "version": 3
   },
   "file_extension": ".py",
   "mimetype": "text/x-python",
   "name": "python",
   "nbconvert_exporter": "python",
   "pygments_lexer": "ipython3",
   "version": "3.12.2"
  }
 },
 "nbformat": 4,
 "nbformat_minor": 2
}
