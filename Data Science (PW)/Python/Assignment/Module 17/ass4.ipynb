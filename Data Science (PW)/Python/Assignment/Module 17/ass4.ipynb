{
 "cells": [
  {
   "cell_type": "markdown",
   "metadata": {},
   "source": [
    "Q 4 what are getter and setter in python? Create a class and create a getter and setter  method  in this class."
   ]
  },
  {
   "cell_type": "markdown",
   "metadata": {},
   "source": [
    "In Python, getters and setters are methods used to access and modify the attributes of a class. They help in achieving encapsulation by providing controlled access to class attributes"
   ]
  },
  {
   "cell_type": "code",
   "execution_count": 1,
   "metadata": {},
   "outputs": [
    {
     "name": "stdout",
     "output_type": "stream",
     "text": [
      "Car make: Toyota\n",
      "Car model: Camry\n",
      "Car year: 2022\n",
      "Modified car make: Honda\n",
      "Modified car model: Accord\n",
      "Modified car year: 2023\n"
     ]
    }
   ],
   "source": [
    "class Car:\n",
    "    def __init__(self, make, model, year):\n",
    "        self._make = make\n",
    "        self._model = model\n",
    "        self._year = year\n",
    "\n",
    "    @property\n",
    "    def make(self):\n",
    "        return self._make\n",
    "\n",
    "    @make.setter\n",
    "    def make(self, make):\n",
    "        self._make = make\n",
    "\n",
    "    @property\n",
    "    def model(self):\n",
    "        return self._model\n",
    "\n",
    "    @model.setter\n",
    "    def model(self, model):\n",
    "        self._model = model\n",
    "\n",
    "    @property\n",
    "    def year(self):\n",
    "        return self._year\n",
    "\n",
    "    @year.setter\n",
    "    def year(self, year):\n",
    "        self._year = year\n",
    "\n",
    "# Creating an instance of the Car class\n",
    "my_car = Car(\"Toyota\", \"Camry\", 2022)\n",
    "\n",
    "# Using getter methods to access attributes\n",
    "print(\"Car make:\", my_car.make)\n",
    "print(\"Car model:\", my_car.model)\n",
    "print(\"Car year:\", my_car.year)\n",
    "\n",
    "# Using setter methods to modify attributes\n",
    "my_car.make = \"Honda\"\n",
    "my_car.model = \"Accord\"\n",
    "my_car.year = 2023\n",
    "\n",
    "# Displaying modified attributes\n",
    "print(\"Modified car make:\", my_car.make)\n",
    "print(\"Modified car model:\", my_car.model)\n",
    "print(\"Modified car year:\", my_car.year)\n"
   ]
  }
 ],
 "metadata": {
  "kernelspec": {
   "display_name": "Python 3",
   "language": "python",
   "name": "python3"
  },
  "language_info": {
   "codemirror_mode": {
    "name": "ipython",
    "version": 3
   },
   "file_extension": ".py",
   "mimetype": "text/x-python",
   "name": "python",
   "nbconvert_exporter": "python",
   "pygments_lexer": "ipython3",
   "version": "3.12.2"
  }
 },
 "nbformat": 4,
 "nbformat_minor": 2
}
