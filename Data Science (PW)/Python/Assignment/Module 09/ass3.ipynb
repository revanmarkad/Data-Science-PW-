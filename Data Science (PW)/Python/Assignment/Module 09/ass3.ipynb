{
 "cells": [
  {
   "cell_type": "markdown",
   "metadata": {},
   "source": [
    "Q 3.  What is an iterator in python? Name the method used to initialise the iterator object and method used for iteration. Use these method to print the  first five element of the given list [2,4,6,8,10,12,14,16,18,20]."
   ]
  },
  {
   "cell_type": "code",
   "execution_count": 2,
   "metadata": {},
   "outputs": [
    {
     "name": "stdout",
     "output_type": "stream",
     "text": [
      "2\n",
      "4\n",
      "6\n",
      "8\n",
      "10\n",
      "12\n",
      "14\n"
     ]
    }
   ],
   "source": [
    " \n",
    "numbers = [2, 4, 6, 8, 10, 12, 14, 16, 18, 20]\n",
    " \n",
    "iterator = iter(numbers)\n",
    "\n",
    " \n",
    "for _ in range(5):\n",
    "    print(next(iterator))\n"
   ]
  }
 ],
 "metadata": {
  "kernelspec": {
   "display_name": "Python 3",
   "language": "python",
   "name": "python3"
  },
  "language_info": {
   "codemirror_mode": {
    "name": "ipython",
    "version": 3
   },
   "file_extension": ".py",
   "mimetype": "text/x-python",
   "name": "python",
   "nbconvert_exporter": "python",
   "pygments_lexer": "ipython3",
   "version": "3.12.2"
  }
 },
 "nbformat": 4,
 "nbformat_minor": 2
}
