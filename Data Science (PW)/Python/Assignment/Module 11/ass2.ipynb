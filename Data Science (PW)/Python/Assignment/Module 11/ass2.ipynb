{
 "cells": [
  {
   "cell_type": "markdown",
   "metadata": {},
   "source": [
    "Q2 Name the four pillars of OOPs\n"
   ]
  },
  {
   "cell_type": "markdown",
   "metadata": {},
   "source": [
    "1) Encapsulation: Bundling data and methods that operate on the data into a single unit (class), and restricting direct access to some of the object's components. This hides the internal state and implementation details."
   ]
  },
  {
   "cell_type": "markdown",
   "metadata": {},
   "source": [
    "2 . Abstraction: Hiding complex implementation details and showing only the essential features of an object. This simplifies interaction with the object by focusing on high-level operations."
   ]
  },
  {
   "cell_type": "markdown",
   "metadata": {},
   "source": [
    "3. Inheritance: Allowing a new class to inherit attributes and methods from an existing class. This promotes code reuse and establishes a hierarchical relationship between classes."
   ]
  },
  {
   "cell_type": "markdown",
   "metadata": {},
   "source": [
    "4. Polymorphism: Enabling objects of different classes to be treated as objects of a common superclass. This allows methods to operate on objects of different types through a unified interface.\n"
   ]
  },
  {
   "cell_type": "markdown",
   "metadata": {},
   "source": []
  }
 ],
 "metadata": {
  "kernelspec": {
   "display_name": "Python 3",
   "language": "python",
   "name": "python3"
  },
  "language_info": {
   "codemirror_mode": {
    "name": "ipython",
    "version": 3
   },
   "file_extension": ".py",
   "mimetype": "text/x-python",
   "name": "python",
   "nbconvert_exporter": "python",
   "pygments_lexer": "ipython3",
   "version": "3.12.2"
  }
 },
 "nbformat": 4,
 "nbformat_minor": 2
}
