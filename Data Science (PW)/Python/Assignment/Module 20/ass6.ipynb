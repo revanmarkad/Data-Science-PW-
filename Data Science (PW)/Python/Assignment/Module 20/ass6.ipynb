{
 "cells": [
  {
   "cell_type": "markdown",
   "metadata": {},
   "source": [
    "Q 6 Create a custom exception class .Use this class to hundle an expection."
   ]
  },
  {
   "cell_type": "code",
   "execution_count": 1,
   "metadata": {},
   "outputs": [
    {
     "name": "stdout",
     "output_type": "stream",
     "text": [
      "Age 25 is valid.\n",
      "Caught an exception: Invalid age provided. Age must be between 0 and 150. Age provided: -5\n"
     ]
    }
   ],
   "source": [
    " \n",
    "class InvalidAgeError(Exception):\n",
    "    \"\"\"Exception raised for invalid age input.\"\"\"\n",
    "    \n",
    "    def __init__(self, age, message=\"Invalid age provided. Age must be between 0 and 150.\"):\n",
    "        self.age = age\n",
    "        self.message = message\n",
    "        super().__init__(self.message)\n",
    "\n",
    "    def __str__(self):\n",
    "        return f\"{self.message} Age provided: {self.age}\"\n",
    "\n",
    "# Function that uses the custom exception\n",
    "def validate_age(age):\n",
    "    if age < 0 or age > 150:\n",
    "        # Raise the custom exception if age is invalid\n",
    "        raise InvalidAgeError(age)\n",
    "    else:\n",
    "        print(f\"Age {age} is valid.\")\n",
    "\n",
    "# Example usage\n",
    "try:\n",
    "    validate_age(25)   # Valid age\n",
    "    validate_age(-5)   # Invalid age\n",
    "    validate_age(200)  # Invalid age\n",
    "except InvalidAgeError as e:\n",
    "    print(\"Caught an exception:\", e)\n"
   ]
  }
 ],
 "metadata": {
  "kernelspec": {
   "display_name": "Python 3",
   "language": "python",
   "name": "python3"
  },
  "language_info": {
   "codemirror_mode": {
    "name": "ipython",
    "version": 3
   },
   "file_extension": ".py",
   "mimetype": "text/x-python",
   "name": "python",
   "nbconvert_exporter": "python",
   "pygments_lexer": "ipython3",
   "version": "3.12.2"
  }
 },
 "nbformat": 4,
 "nbformat_minor": 2
}
