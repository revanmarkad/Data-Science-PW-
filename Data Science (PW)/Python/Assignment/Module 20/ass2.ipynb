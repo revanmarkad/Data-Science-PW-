{
 "cells": [
  {
   "cell_type": "markdown",
   "metadata": {},
   "source": [
    "Q2 What happens when an exception is not handleed? Explain with an example."
   ]
  },
  {
   "cell_type": "markdown",
   "metadata": {},
   "source": [
    " \n",
    "\n",
    "### Unhandled Exception\n",
    "\n",
    "When an exception is not handled:\n",
    "\n",
    "1. **Program Termination:** The program stops immediately at the point of the exception.\n",
    "2. **Traceback Message:** Python displays a traceback message that shows where the error occurred and what type of error it was.\n",
    "3. **Resource Leaks:** Open resources (like files or network connections) might not be properly closed, causing leaks.\n",
    "4. **Poor User Experience:** The program may crash unexpectedly, providing a bad user experience.\n",
    "\n",
    "### Example\n",
    "\n",
    "```python\n",
    "def divide_numbers(a, b):\n",
    "    return a / b\n",
    "\n",
    "result = divide_numbers(10, 0)\n",
    "print(\"Result:\", result)\n",
    "```\n",
    "\n",
    "- This code raises a `ZeroDivisionError`, causing the program to terminate and display an error message.\n",
    "\n",
    "### Handling Exceptions\n",
    "\n",
    "Using `try` and `except` blocks helps manage exceptions gracefully:\n",
    "\n",
    "```python\n",
    "def divide_numbers(a, b):\n",
    "    try:\n",
    "        return a / b\n",
    "    except ZeroDivisionError:\n",
    "        print(\"Error: Cannot divide by zero.\")\n",
    "        return None\n",
    "\n",
    "result = divide_numbers(10, 0)\n",
    "if result is not None:\n",
    "    print(\"Result:\", result)\n",
    "```\n",
    "\n",
    "- **Benefits:** Handling exceptions allows the program to continue running, properly manage resources, log errors, and provide better feedback to the user."
   ]
  }
 ],
 "metadata": {
  "language_info": {
   "name": "python"
  }
 },
 "nbformat": 4,
 "nbformat_minor": 2
}
