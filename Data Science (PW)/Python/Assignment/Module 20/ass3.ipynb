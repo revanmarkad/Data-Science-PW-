{
 "cells": [
  {
   "cell_type": "markdown",
   "metadata": {},
   "source": [
    "Q 3 Which python statements  are used to catch  and handle exceptions? Explain with an example."
   ]
  },
  {
   "cell_type": "markdown",
   "metadata": {},
   "source": [
    "\n",
    "\n",
    "### Python Statements for Exception Handling\n",
    "\n",
    "- **`try`:** Code that may raise an exception.\n",
    "- **`except`:** Handle exceptions if they occur.\n",
    "- **`else`:** Execute code if no exception occurs.\n",
    "- **`finally`:** Execute code regardless of whether an exception occurs, typically for cleanup.\n",
    "\n",
    "\n",
    "This example demonstrates how to handle file reading errors gracefully:\n",
    "\n",
    "- **`try`:** Attempts to read a file.\n",
    "- **`except FileNotFoundError`:** Catches specific file not found errors.\n",
    "- **`except Exception`:** Catches any other exceptions.\n",
    "- **`else`:** Runs if no exceptions occur.\n",
    "- **`finally`:** Always runs to signal completion or perform cleanup.\n",
    "\n",
    "Using these blocks, you can create more robust programs that handle errors gracefully and maintain resource integrity."
   ]
  },
  {
   "cell_type": "code",
   "execution_count": 1,
   "metadata": {},
   "outputs": [
    {
     "name": "stdout",
     "output_type": "stream",
     "text": [
      "Error: File not found.\n",
      "Execution complete.\n",
      "Error: File not found.\n",
      "Execution complete.\n"
     ]
    }
   ],
   "source": [
    " \n",
    "def read_file(filename):\n",
    "    try:\n",
    "        # Attempt to open and read the file\n",
    "        with open(filename, 'r') as file:\n",
    "            data = file.read()\n",
    "            print(\"File content:\\n\", data)\n",
    "    except FileNotFoundError:\n",
    "        # Handle the case where the file does not exist\n",
    "        print(\"Error: File not found.\")\n",
    "    except Exception as e:\n",
    "        # Handle any other exceptions\n",
    "        print(\"An unexpected error occurred:\", e)\n",
    "    else:\n",
    "        # Executes if no exceptions are raised in the try block\n",
    "        print(\"File read successfully.\")\n",
    "    finally:\n",
    "        # Executes no matter what, typically used for cleanup\n",
    "        print(\"Execution complete.\")\n",
    "\n",
    "# Test with a file that does not exist\n",
    "read_file(\"nonexistent.txt\")\n",
    "\n",
    "# Test with an existing file\n",
    "read_file(\"existing_file.txt\")\n",
    " "
   ]
  }
 ],
 "metadata": {
  "kernelspec": {
   "display_name": "Python 3",
   "language": "python",
   "name": "python3"
  },
  "language_info": {
   "codemirror_mode": {
    "name": "ipython",
    "version": 3
   },
   "file_extension": ".py",
   "mimetype": "text/x-python",
   "name": "python",
   "nbconvert_exporter": "python",
   "pygments_lexer": "ipython3",
   "version": "3.12.2"
  }
 },
 "nbformat": 4,
 "nbformat_minor": 2
}
