{
 "cells": [
  {
   "cell_type": "markdown",
   "metadata": {},
   "source": [
    "Q 1 What is an Exception in python? Write the  diffrence between Exceptions and Syntax error...."
   ]
  },
  {
   "cell_type": "markdown",
   "metadata": {},
   "source": [
    "In Python, an **exception** is an event that occurs during the execution of a program that disrupts the normal flow of the program's instructions. Exceptions are typically caused by errors that occur due to unforeseen conditions like invalid input, unavailable resources, or an operation exceeding its limits (e.g., division by zero).\n",
    "\n",
    "### Handling Exceptions\n",
    "\n",
    "Exceptions can be handled in Python using `try`, `except`, and other associated clauses to provide fallback logic when an error occurs, allowing the program to continue executing or to cleanly terminate.\n",
    "\n",
    "```python\n",
    "try:\n",
    "    # Code that might cause an exception\n",
    "    result = 10 / 0\n",
    "except ZeroDivisionError as e:\n",
    "    # Handle the exception\n",
    "    print(\"Cannot divide by zero:\", e)\n",
    "else:\n",
    "    # This block executes if no exception occurs in try block\n",
    "    print(\"Division successful, result is\", result)\n",
    "finally:\n",
    "    # This block always executes\n",
    "    print(\"Execution completed.\")\n",
    "```\n",
    "\n",
    "### Difference Between Exceptions and Syntax Errors\n",
    "\n",
    "**Exceptions:**\n",
    "\n",
    "- **Definition:** Exceptions occur during the execution of a program and are generally caused by unexpected situations like invalid input, resource issues, or logical errors.\n",
    "- **Detection:** Exceptions are detected and raised during runtime, when the Python interpreter encounters an operation that it cannot execute as expected.\n",
    "- **Handling:** Exceptions can be caught and handled using `try`, `except`, `else`, and `finally` blocks, allowing the program to either recover from the error or terminate gracefully.\n",
    "- **Examples:** Division by zero (`ZeroDivisionError`), file not found (`FileNotFoundError`), and invalid index access (`IndexError`).\n",
    "\n",
    "**Syntax Errors:**\n",
    "\n",
    "- **Definition:** Syntax errors are caused by violations of the language's syntax rules and occur when the parser encounters code that does not conform to the grammar of the language.\n",
    "- **Detection:** Syntax errors are detected at compile-time (before the program runs) when the Python interpreter attempts to parse the source code.\n",
    "- **Handling:** Syntax errors must be corrected before the program can be successfully executed. They cannot be handled using exception-handling mechanisms because the code won't run until the syntax issues are fixed.\n",
    "- **Examples:** Missing colons, unmatched parentheses, incorrect indentation, and misspelled keywords.\n",
    "\n",
    "### Example of a Syntax Error\n",
    "\n",
    "```python\n",
    "# Syntax Error: Missing colon at the end of the if statement\n",
    "if x > 10\n",
    "    print(\"x is greater than 10\")\n",
    "```\n",
    "\n",
    "### Summary\n",
    "\n",
    "In summary, the key difference is that exceptions are errors that occur during runtime, while syntax errors are issues with the code structure that must be fixed before the code can be executed. Handling exceptions allows for more robust and error-tolerant programs."
   ]
  },
  {
   "cell_type": "markdown",
   "metadata": {},
   "source": []
  }
 ],
 "metadata": {
  "language_info": {
   "name": "python"
  }
 },
 "nbformat": 4,
 "nbformat_minor": 2
}
