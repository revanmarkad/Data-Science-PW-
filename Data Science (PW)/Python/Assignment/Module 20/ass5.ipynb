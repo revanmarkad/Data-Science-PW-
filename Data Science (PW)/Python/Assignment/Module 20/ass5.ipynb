{
 "cells": [
  {
   "cell_type": "markdown",
   "metadata": {},
   "source": [
    "Q 5 What are Custom Exceptionns in python? Why do we need Custom Exceptions? Explain with an example.."
   ]
  },
  {
   "cell_type": "markdown",
   "metadata": {},
   "source": [
    "Custom exceptions in Python are user-defined exception classes that allow you to create specific error types tailored to your application's needs. These exceptions help make your code more readable and maintainable by providing meaningful error messages and allowing for precise exception handling.\n",
    "\n",
    "### Why Do We Need Custom Exceptions?\n",
    "\n",
    "1. **Clarity and Readability:** Custom exceptions make your code more understandable by providing clear and specific error messages that indicate the exact nature of an error.\n",
    "\n",
    "2. **Separation of Concerns:** They allow you to separate your application's error-handling logic from general exception handling, making it easier to manage complex systems.\n",
    "\n",
    "3. **Specificity:** You can create exceptions that are specific to your application's domain, allowing for more precise and context-aware error handling.\n",
    "\n",
    "4. **Maintainability:** Custom exceptions make it easier to maintain and extend your codebase, as they provide a structured way to handle errors.\n",
    "\n",
    "### Creating Custom Exceptions\n",
    "\n",
    "To create a custom exception, you define a new class that inherits from the built-in `Exception` class or one of its subclasses. You can add custom behavior and attributes to these classes as needed.\n",
    "\n",
    "### Example\n",
    "\n",
    "Here's an example demonstrating how to create and use custom exceptions in Python:\n",
    "\n",
    "```python\n",
    "# Define a custom exception class\n",
    "class NegativeNumberError(Exception):\n",
    "    def __init__(self, value):\n",
    "        self.value = value\n",
    "        super().__init__(f\"Negative number error: {value} is not allowed.\")\n",
    "\n",
    "def calculate_square_root(number):\n",
    "    if number < 0:\n",
    "        # Raise the custom exception if the number is negative\n",
    "        raise NegativeNumberError(number)\n",
    "    else:\n",
    "        return number ** 0.5\n",
    "\n",
    "try:\n",
    "    print(\"Square root:\", calculate_square_root(25))\n",
    "    print(\"Square root:\", calculate_square_root(-9))\n",
    "except NegativeNumberError as e:\n",
    "    print(\"Custom Exception Caught:\", e)\n",
    "```\n",
    "\n",
    "**Output:**\n",
    "\n",
    "```\n",
    "Square root: 5.0\n",
    "Custom Exception Caught: Negative number error: -9 is not allowed.\n",
    "```\n",
    "\n",
    "### Explanation\n",
    "\n",
    "- **Custom Exception Class:** `NegativeNumberError` is a custom exception class that inherits from `Exception`. It takes an additional argument, `value`, which represents the invalid number. The constructor initializes the exception with a meaningful error message.\n",
    "\n",
    "- **Usage:** In the `calculate_square_root` function, the custom exception is raised when a negative number is encountered. This provides a clear, specific error message indicating the problem.\n",
    "\n",
    "- **Handling:** The `try` and `except` blocks are used to catch and handle the custom exception, allowing the program to continue executing and provide feedback on the specific error.\n",
    "\n",
    " \n",
    "\n",
    "Custom exceptions in Python provide a powerful way to enhance error handling by making it more specific, readable, and maintainable. They allow you to define errors that are meaningful within the context of your application, enabling more precise exception management and improving the overall quality of your code."
   ]
  },
  {
   "cell_type": "markdown",
   "metadata": {},
   "source": []
  }
 ],
 "metadata": {
  "language_info": {
   "name": "python"
  }
 },
 "nbformat": 4,
 "nbformat_minor": 2
}
