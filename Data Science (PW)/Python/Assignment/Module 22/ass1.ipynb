{
 "cells": [
  {
   "cell_type": "markdown",
   "metadata": {},
   "source": [
    "Q1 What is multithreading in python? Why is it used? Name of module used to handle threads in python."
   ]
  },
  {
   "cell_type": "markdown",
   "metadata": {},
   "source": [
    "### What is Multithreading in Python?\n",
    "\n",
    "Multithreading in Python refers to the concurrent execution of two or more threads in a single process. A thread is the smallest unit of execution within a process. Python's multithreading is used to perform multiple operations simultaneously, which can help improve the efficiency and responsiveness of programs, especially for I/O-bound tasks.\n",
    "\n",
    "### Why is Multithreading Used?\n",
    "\n",
    "1. **Concurrency**: Allows multiple tasks to run concurrently, improving the performance of I/O-bound tasks (like network operations, file I/O, etc.).\n",
    "2. **Responsiveness**: Keeps the application responsive by allowing it to handle multiple tasks at the same time.\n",
    "3. **Resource Sharing**: Threads within the same process share memory space, making communication between threads faster and easier compared to inter-process communication.\n",
    "\n",
    "### Common Use Cases\n",
    "\n",
    "- **I/O-bound tasks**: Reading/writing files, network operations, etc.\n",
    "- **Parallelism**: Performing tasks simultaneously that can be executed in parallel.\n",
    "\n",
    "### Module Used to Handle Threads in Python\n",
    "\n",
    "The primary module used to handle threads in Python is the `threading` module. This module provides a high-level interface to work with threads.\n",
    "\n",
    " "
   ]
  }
 ],
 "metadata": {
  "language_info": {
   "name": "python"
  }
 },
 "nbformat": 4,
 "nbformat_minor": 2
}
