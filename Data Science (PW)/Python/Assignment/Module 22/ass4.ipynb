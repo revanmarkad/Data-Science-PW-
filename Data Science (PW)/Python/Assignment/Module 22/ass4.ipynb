{
 "cells": [
  {
   "cell_type": "markdown",
   "metadata": {},
   "source": [
    "Q 4 Write a python program to create two threads.Thread one must print the list of squares and thread two must print the list of cubes ."
   ]
  },
  {
   "cell_type": "code",
   "execution_count": 1,
   "metadata": {},
   "outputs": [
    {
     "name": "stdout",
     "output_type": "stream",
     "text": [
      "Squares: [1, 4, 9, 16, 25, 36, 49, 64, 81, 100]\n",
      "Cubes: [1, 8, 27, 64, 125, 216, 343, 512, 729, 1000]\n"
     ]
    }
   ],
   "source": [
    "def print_squares(numbers):\n",
    "    squares = [x**2 for x in numbers]\n",
    "    print(f\"Squares: {squares}\")\n",
    "\n",
    "def print_cubes(numbers):\n",
    "    cubes = [x**3 for x in numbers]\n",
    "    print(f\"Cubes: {cubes}\")\n",
    "\n",
    "if __name__ == \"__main__\":\n",
    "    numbers = range(1, 11)  \n",
    "\n",
    "    print_squares(numbers)\n",
    "    print_cubes(numbers)\n"
   ]
  }
 ],
 "metadata": {
  "kernelspec": {
   "display_name": "Python 3",
   "language": "python",
   "name": "python3"
  },
  "language_info": {
   "codemirror_mode": {
    "name": "ipython",
    "version": 3
   },
   "file_extension": ".py",
   "mimetype": "text/x-python",
   "name": "python",
   "nbconvert_exporter": "python",
   "pygments_lexer": "ipython3",
   "version": "3.12.2"
  }
 },
 "nbformat": 4,
 "nbformat_minor": 2
}
