{
 "cells": [
  {
   "cell_type": "markdown",
   "metadata": {},
   "source": [
    "Q 6 Explain deadlocks and race conditions."
   ]
  },
  {
   "cell_type": "markdown",
   "metadata": {},
   "source": [
    "### Deadlocks\n",
    "\n",
    "**Definition**: A deadlock is a situation in computer systems where two or more processes or threads are unable to proceed because each is waiting for the other to release a resource they need.\n",
    "\n",
    "**Conditions for Deadlock**:\n",
    "1. **Mutual Exclusion**: At least one resource must be held in a non-sharable mode. Only one process can use the resource at a time.\n",
    "2. **Hold and Wait**: A process holding at least one resource is waiting to acquire additional resources held by other processes.\n",
    "3. **No Preemption**: Resources cannot be forcibly taken away from a process holding them; they must be released voluntarily.\n",
    "4. **Circular Wait**: There exists a set of processes {P1, P2, ..., Pn} such that P1 is waiting for a resource held by P2, P2 is waiting for a resource held by P3, ..., and Pn is waiting for a resource held by P1.\n",
    "\n",
    "**Example**:\n",
    "- Thread 1 locks Resource A and waits for Resource B.\n",
    "- Thread 2 locks Resource B and waits for Resource A.\n",
    "- Neither thread can proceed, resulting in a deadlock.\n",
    "\n",
    "**Prevention and Avoidance**:\n",
    "- **Deadlock Prevention**: Altering the system's conditions to prevent at least one of the necessary conditions from occurring.\n",
    "  - Ensure at least one of the four conditions is not met.\n",
    "- **Deadlock Avoidance**: Dynamically examining the resource-allocation state to ensure that a circular wait condition never occurs.\n",
    "  - Use algorithms like Banker’s Algorithm to check for safe states.\n",
    "\n",
    "### Race Conditions\n",
    "\n",
    "**Definition**: A race condition occurs when the behavior of software depends on the sequence or timing of uncontrollable events such as thread or process scheduling.\n",
    "\n",
    "**Example**:\n",
    "- Two threads, Thread 1 and Thread 2, both increment a shared counter.\n",
    "- If both threads read the counter’s value simultaneously and then increment it, they might both write back the same value, resulting in one increment being lost.\n",
    "\n",
    "**Conditions for Race Conditions**:\n",
    "- **Shared State**: Multiple threads or processes must access the same shared resource.\n",
    "- **Concurrency**: Threads or processes execute simultaneously or overlap in execution.\n",
    "\n",
    "**Prevention**:\n",
    "- **Synchronization Mechanisms**: Use locks, semaphores, or other synchronization mechanisms to control access to shared resources.\n",
    "- **Atomic Operations**: Ensure operations on shared resources are atomic, meaning they complete in a single step without interruption.\n",
    " "
   ]
  }
 ],
 "metadata": {
  "language_info": {
   "name": "python"
  }
 },
 "nbformat": 4,
 "nbformat_minor": 2
}
