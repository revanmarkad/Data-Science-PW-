{
 "cells": [
  {
   "cell_type": "markdown",
   "metadata": {},
   "source": [
    "Q2 Why and when to use while loop In python give a detailed description with example "
   ]
  },
  {
   "cell_type": "markdown",
   "metadata": {},
   "source": [
    "Why Use a while Loop\n",
    "\n",
    "Indeterminate Iteration: Execute a block of code as long as a condition is true.\n",
    "\n",
    "Conditional Repetition: Repeat actions based on runtime conditions.\n",
    "\n",
    "When to Use a while Loop\n",
    "\n",
    "User Input Validation: Continue prompting until valid input is received.\n",
    "\n",
    "Monitoring Conditions: Check for events or changes, like file size or user actions.\n",
    "\n",
    "Infinite Loops: Use while True for tasks that run indefinitely until a condition breaks the loop.\n",
    "\n",
    "Dynamic Data Handling: Process data until a certain condition is met."
   ]
  },
  {
   "cell_type": "code",
   "execution_count": 1,
   "metadata": {},
   "outputs": [
    {
     "name": "stdout",
     "output_type": "stream",
     "text": [
      "Your age is 22.\n"
     ]
    }
   ],
   "source": [
    "age = -1\n",
    "while age <= 0:\n",
    "    try:\n",
    "        age = int(input(\"Enter a positive age: \"))\n",
    "        if age <= 0:\n",
    "            print(\"Invalid age. Try again.\")\n",
    "    except ValueError:\n",
    "        print(\"Please enter a valid number.\")\n",
    "print(f\"Your age is {age}.\")\n"
   ]
  }
 ],
 "metadata": {
  "kernelspec": {
   "display_name": "Python 3",
   "language": "python",
   "name": "python3"
  },
  "language_info": {
   "codemirror_mode": {
    "name": "ipython",
    "version": 3
   },
   "file_extension": ".py",
   "mimetype": "text/x-python",
   "name": "python",
   "nbconvert_exporter": "python",
   "pygments_lexer": "ipython3",
   "version": "3.12.2"
  }
 },
 "nbformat": 4,
 "nbformat_minor": 2
}
