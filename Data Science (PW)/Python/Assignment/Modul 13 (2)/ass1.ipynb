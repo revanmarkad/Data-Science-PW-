{
 "cells": [
  {
   "cell_type": "markdown",
   "metadata": {},
   "source": [
    "Q1 Check how many times a given number can be divided by 3 before it is less than or equal to 10."
   ]
  },
  {
   "cell_type": "code",
   "execution_count": 7,
   "metadata": {},
   "outputs": [
    {
     "name": "stdout",
     "output_type": "stream",
     "text": [
      "The number can be divided by (3) 4 time  before it is less than or equal to 10\n"
     ]
    }
   ],
   "source": [
    "num=float(input(\"Enter a nummber: \"))\n",
    "\n",
    "count=0\n",
    "\n",
    "if num >10:\n",
    "    while num >10:\n",
    "        num/=3\n",
    "        \n",
    "        count+=1\n",
    "    print(f\"The number can be divided by (3) {count} time  before it is less than or equal to 10\")\n",
    "else:\n",
    "    print(\"Number Already less than 10\")\n"
   ]
  },
  {
   "cell_type": "code",
   "execution_count": null,
   "metadata": {},
   "outputs": [],
   "source": []
  }
 ],
 "metadata": {
  "kernelspec": {
   "display_name": "Python 3",
   "language": "python",
   "name": "python3"
  },
  "language_info": {
   "codemirror_mode": {
    "name": "ipython",
    "version": 3
   },
   "file_extension": ".py",
   "mimetype": "text/x-python",
   "name": "python",
   "nbconvert_exporter": "python",
   "pygments_lexer": "ipython3",
   "version": "3.12.2"
  }
 },
 "nbformat": 4,
 "nbformat_minor": 2
}
