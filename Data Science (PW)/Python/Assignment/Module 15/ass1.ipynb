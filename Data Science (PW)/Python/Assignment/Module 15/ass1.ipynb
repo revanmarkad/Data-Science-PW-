{
 "cells": [
  {
   "cell_type": "markdown",
   "metadata": {},
   "source": [
    "Q1 You are writing code for a company . The reqirment of the company is that you create a python function that will check whether the password entered by the user  is currect or not. the function shuld take a password as input  and return \"Valid Password\" if the entered pass follows the below-given password guidelines else it shuld return \"Invalid Password\".\n",
    "\n",
    "Note:\n",
    "1) The password shuld  contain at least  two uppercase latters and  at least two lowercase latters.\n",
    "2) The password contain at least a number and three specail characters.\n",
    "3) The length of the password should be 10 characters long."
   ]
  },
  {
   "cell_type": "code",
   "execution_count": 34,
   "metadata": {},
   "outputs": [],
   "source": [
    "def password(inp):\n",
    "    \n",
    "    length=len(inp)\n",
    "    upperCount=0\n",
    "    lowerCount=0\n",
    "    numericCount=0\n",
    "    specialCount=0\n",
    "    \n",
    "    for i in inp:\n",
    "        if i.isupper():\n",
    "            upperCount+=1\n",
    "        elif i.islower():\n",
    "            lowerCount+=1\n",
    "        elif i.isdigit():\n",
    "            numericCount+=1\n",
    "        else:\n",
    "            specialCount+=1\n",
    "            \n",
    "    if upperCount>=2 and lowerCount>=2 and  numericCount >0 and specialCount>=3 and length>=10:\n",
    "        return \"Valid Password\"\n",
    "    else:\n",
    "        return \"Invalid Password\"\n",
    "        \n",
    "         \n",
    "    \n",
    "        \n",
    "    \n",
    "    "
   ]
  },
  {
   "cell_type": "code",
   "execution_count": 39,
   "metadata": {},
   "outputs": [
    {
     "data": {
      "text/plain": [
       "'Valid Password'"
      ]
     },
     "execution_count": 39,
     "metadata": {},
     "output_type": "execute_result"
    }
   ],
   "source": [
    "password(\"123#%$REVrev\")"
   ]
  },
  {
   "cell_type": "code",
   "execution_count": null,
   "metadata": {},
   "outputs": [],
   "source": []
  }
 ],
 "metadata": {
  "kernelspec": {
   "display_name": "Python 3",
   "language": "python",
   "name": "python3"
  },
  "language_info": {
   "codemirror_mode": {
    "name": "ipython",
    "version": 3
   },
   "file_extension": ".py",
   "mimetype": "text/x-python",
   "name": "python",
   "nbconvert_exporter": "python",
   "pygments_lexer": "ipython3",
   "version": "3.12.2"
  }
 },
 "nbformat": 4,
 "nbformat_minor": 2
}
