{
 "cells": [
  {
   "cell_type": "markdown",
   "metadata": {},
   "source": [
    "Q 6 Explain the write() and writelines() functions. Give a suitable example."
   ]
  },
  {
   "cell_type": "markdown",
   "metadata": {},
   "source": [
    "The `write()` and `writelines()` functions in Python are used to write data to a file. Here's an explanation of each function and examples demonstrating their usage:\n",
    "\n",
    "### `write()`\n",
    "\n",
    "The `write()` function writes a single string to the file. It does not add a newline character automatically, so if you want each string to appear on a new line, you must include newline characters (`\\n`) in the string.\n",
    "\n",
    "#### Example:\n",
    "\n",
    "```python\n",
    "# Open a file for writing\n",
    "with open(\"example_write.txt\", \"w\") as file:\n",
    "    file.write(\"I want to become a data scientist.\\n\")\n",
    "    file.write(\"I am learning Python for data science.\\n\")\n",
    "    file.write(\"Data science involves statistics, programming, and domain knowledge.\")\n",
    "\n",
    "# Open the file to read the content\n",
    "with open(\"example_write.txt\", \"r\") as file:\n",
    "    content = file.read()\n",
    "    print(\"File Content:\")\n",
    "    print(content)\n",
    "```\n",
    "\n",
    "### `writelines()`\n",
    "\n",
    "The `writelines()` function writes a list of strings to the file. Each string in the list is written to the file in sequence. Unlike `write()`, `writelines()` does not add newline characters between the strings, so if you want each string to appear on a new line, you must include newline characters (`\\n`) at the end of each string.\n",
    "\n",
    "#### Example:\n",
    "\n",
    "```python\n",
    "# List of strings to write to the file\n",
    "lines = [\n",
    "    \"I want to become a data scientist.\\n\",\n",
    "    \"I am learning Python for data science.\\n\",\n",
    "    \"Data science involves statistics, programming, and domain knowledge.\\n\"\n",
    "]\n",
    "\n",
    "# Open a file for writing\n",
    "with open(\"example_writelines.txt\", \"w\") as file:\n",
    "    file.writelines(lines)\n",
    "\n",
    "# Open the file to read the content\n",
    "with open(\"example_writelines.txt\", \"r\") as file:\n",
    "    content = file.read()\n",
    "    print(\"File Content:\")\n",
    "    print(content)\n",
    "```\n",
    "\n",
    "### Summary\n",
    "\n",
    "- **`write()`**: Used to write a single string to a file. It does not add newline characters automatically.\n",
    "- **`writelines()`**: Used to write a list of strings to a file. It does not add newline characters between the strings; each string must include its own newline characters if needed.\n",
    "\n",
    "Both methods are useful depending on the format and structure of the data you want to write to a file."
   ]
  },
  {
   "cell_type": "markdown",
   "metadata": {},
   "source": []
  }
 ],
 "metadata": {
  "language_info": {
   "name": "python"
  }
 },
 "nbformat": 4,
 "nbformat_minor": 2
}
