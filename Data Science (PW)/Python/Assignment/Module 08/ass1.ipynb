{
 "cells": [
  {
   "cell_type": "code",
   "execution_count": null,
   "metadata": {},
   "outputs": [],
   "source": [
    "# Explain with an example each when to use  a for loop and a while loop  "
   ]
  },
  {
   "cell_type": "code",
   "execution_count": 2,
   "metadata": {},
   "outputs": [
    {
     "name": "stdout",
     "output_type": "stream",
     "text": [
      "Sum: 15\n"
     ]
    }
   ],
   "source": [
    "# for loop\n",
    "\n",
    "numbers = [1, 2, 3, 4, 5]\n",
    "sum1 = 0\n",
    "\n",
    "for num in numbers:\n",
    "    sum1 += num\n",
    "\n",
    "print(\"Sum:\", sum1)\n"
   ]
  },
  {
   "cell_type": "code",
   "execution_count": 3,
   "metadata": {},
   "outputs": [
    {
     "name": "stdout",
     "output_type": "stream",
     "text": [
      "You entered: 10\n"
     ]
    }
   ],
   "source": [
    "# While loop\n",
    "\n",
    "number = -1\n",
    "\n",
    "while number <= 0:\n",
    "    number = int(input(\"Enter a positive number: \"))\n",
    "\n",
    "print(\"You entered:\", number)\n"
   ]
  },
  {
   "cell_type": "code",
   "execution_count": null,
   "metadata": {},
   "outputs": [],
   "source": [
    "# for Loop: Known number of iterations, such as iterating over lists, ranges, or fixed numbers of repetitions.\n",
    "\n",
    "# while Loop: Unknown number of iterations or need to continue until a specific condition is met, like user input validation or complex conditional checks."
   ]
  }
 ],
 "metadata": {
  "kernelspec": {
   "display_name": "Python 3",
   "language": "python",
   "name": "python3"
  },
  "language_info": {
   "codemirror_mode": {
    "name": "ipython",
    "version": 3
   },
   "file_extension": ".py",
   "mimetype": "text/x-python",
   "name": "python",
   "nbconvert_exporter": "python",
   "pygments_lexer": "ipython3",
   "version": "3.12.2"
  }
 },
 "nbformat": 4,
 "nbformat_minor": 2
}
