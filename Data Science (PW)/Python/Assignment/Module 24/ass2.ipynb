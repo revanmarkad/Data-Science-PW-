{
 "cells": [
  {
   "cell_type": "markdown",
   "metadata": {},
   "source": [
    "Q 2 What is DDL? Explain why CREATE, DROP,ALTER,and TRUNCATE are used with an example."
   ]
  },
  {
   "cell_type": "markdown",
   "metadata": {},
   "source": [
    "**DDL (Data Definition Language)** is a subset of SQL (Structured Query Language) used to define and manage database structures. DDL commands are used to create, modify, and delete database objects such as tables, indexes, and schemas. The main DDL commands are `CREATE`, `DROP`, `ALTER`, and `TRUNCATE`.\n",
    "\n",
    "### DDL Commands\n",
    "\n",
    "1. **CREATE**\n",
    "\n",
    "   The `CREATE` command is used to create new database objects, such as tables, indexes, views, and schemas. \n",
    "\n",
    "   **Example: Creating a Table**\n",
    "\n",
    "   ```sql\n",
    "   CREATE TABLE employees (\n",
    "       employee_id INT PRIMARY KEY,\n",
    "       first_name VARCHAR(50),\n",
    "       last_name VARCHAR(50),\n",
    "       email VARCHAR(100),\n",
    "       hire_date DATE\n",
    "   );\n",
    "   ```\n",
    "\n",
    "   In this example, a table named `employees` is created with columns for `employee_id`, `first_name`, `last_name`, `email`, and `hire_date`.\n",
    "\n",
    "2. **DROP**\n",
    "\n",
    "   The `DROP` command is used to delete existing database objects. This action is irreversible, and all data within the object is lost.\n",
    "\n",
    "   **Example: Dropping a Table**\n",
    "\n",
    "   ```sql\n",
    "   DROP TABLE employees;\n",
    "   ```\n",
    "\n",
    "   This command deletes the `employees` table and all its data.\n",
    "\n",
    "3. **ALTER**\n",
    "\n",
    "   The `ALTER` command is used to modify the structure of existing database objects. This includes adding, deleting, or modifying columns in a table.\n",
    "\n",
    "   **Example: Altering a Table**\n",
    "\n",
    "   ```sql\n",
    "   ALTER TABLE employees\n",
    "   ADD COLUMN phone_number VARCHAR(15);\n",
    "   ```\n",
    "\n",
    "   In this example, a new column `phone_number` is added to the `employees` table.\n",
    "\n",
    "4. **TRUNCATE**\n",
    "\n",
    "   The `TRUNCATE` command is used to delete all data from a table without removing the table itself. It is faster than `DELETE` because it does not log individual row deletions.\n",
    "\n",
    "   **Example: Truncating a Table**\n",
    "\n",
    "   ```sql\n",
    "   TRUNCATE TABLE employees;\n",
    "   ```\n",
    "\n",
    "   This command removes all rows from the `employees` table but retains the table structure for future use.\n",
    "\n",
    "### Summary\n",
    "\n",
    "- **CREATE**: Used to create new database objects.\n",
    "- **DROP**: Used to delete existing database objects permanently.\n",
    "- **ALTER**: Used to modify the structure of existing database objects.\n",
    "- **TRUNCATE**: Used to remove all data from a table quickly without deleting the table itself.\n",
    "\n",
    "These commands are essential for managing and organizing database structures effectively, ensuring that the database can adapt to evolving requirements."
   ]
  },
  {
   "cell_type": "markdown",
   "metadata": {},
   "source": []
  }
 ],
 "metadata": {
  "language_info": {
   "name": "python"
  }
 },
 "nbformat": 4,
 "nbformat_minor": 2
}
