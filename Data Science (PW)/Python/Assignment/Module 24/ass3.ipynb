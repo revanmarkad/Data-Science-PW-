{
 "cells": [
  {
   "cell_type": "markdown",
   "metadata": {},
   "source": [
    "Q 3 What is DML? Explain INSERT,UPDATE,and DELETE with an example.."
   ]
  },
  {
   "cell_type": "markdown",
   "metadata": {},
   "source": [
    "**DML (Data Manipulation Language)** is a subset of SQL (Structured Query Language) used to manipulate and manage data within database tables. DML commands are focused on inserting, updating, deleting, and retrieving data. The primary DML commands are `INSERT`, `UPDATE`, and `DELETE`.\n",
    "\n",
    "### DML Commands\n",
    "\n",
    "1. **INSERT**\n",
    "\n",
    "   The `INSERT` command is used to add new rows of data to a table.\n",
    "\n",
    "   **Example: Inserting Data into a Table**\n",
    "\n",
    "   ```sql\n",
    "   INSERT INTO employees (employee_id, first_name, last_name, email, hire_date)\n",
    "   VALUES (1, 'John', 'Doe', 'john.doe@example.com', '2024-07-31');\n",
    "   ```\n",
    "\n",
    "   This command inserts a new row into the `employees` table with values for `employee_id`, `first_name`, `last_name`, `email`, and `hire_date`.\n",
    "\n",
    "2. **UPDATE**\n",
    "\n",
    "   The `UPDATE` command is used to modify existing data within a table. It can update one or multiple rows based on specified conditions.\n",
    "\n",
    "   **Example: Updating Data in a Table**\n",
    "\n",
    "   ```sql\n",
    "   UPDATE employees\n",
    "   SET email = 'john.d.new@example.com'\n",
    "   WHERE employee_id = 1;\n",
    "   ```\n",
    "\n",
    "   This command updates the `email` field for the employee with `employee_id` 1 in the `employees` table.\n",
    "\n",
    "3. **DELETE**\n",
    "\n",
    "   The `DELETE` command is used to remove rows from a table based on specified conditions. Unlike `TRUNCATE`, `DELETE` allows for conditional removal of data.\n",
    "\n",
    "   **Example: Deleting Data from a Table**\n",
    "\n",
    "   ```sql\n",
    "   DELETE FROM employees\n",
    "   WHERE employee_id = 1;\n",
    "   ```\n",
    "\n",
    "   This command deletes the row where `employee_id` is 1 from the `employees` table.\n",
    "\n",
    "### Summary\n",
    "\n",
    "- **INSERT**: Adds new rows of data to a table.\n",
    "- **UPDATE**: Modifies existing data in a table.\n",
    "- **DELETE**: Removes specific rows from a table based on conditions.\n",
    "\n",
    "These DML commands are essential for manipulating data within a database, allowing for dynamic and flexible data management."
   ]
  },
  {
   "cell_type": "markdown",
   "metadata": {},
   "source": []
  }
 ],
 "metadata": {
  "language_info": {
   "name": "python"
  }
 },
 "nbformat": 4,
 "nbformat_minor": 2
}
