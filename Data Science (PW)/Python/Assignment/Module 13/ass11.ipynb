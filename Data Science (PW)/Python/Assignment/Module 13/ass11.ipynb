{
 "cells": [
  {
   "cell_type": "markdown",
   "metadata": {},
   "source": [
    "Q 11 Mentain few built-in function in python?"
   ]
  },
  {
   "cell_type": "markdown",
   "metadata": {},
   "source": [
    " \n",
    "\n",
    "1. `print()`\n",
    "2. `len()`\n",
    "3. `type()`\n",
    "4. `int()`\n",
    "5. `str()`\n",
    "6. `input()`\n",
    "7. `sum()`\n",
    "8. `max()`\n",
    "9. `min()`\n",
    "10. `range()`"
   ]
  },
  {
   "cell_type": "markdown",
   "metadata": {},
   "source": []
  }
 ],
 "metadata": {
  "language_info": {
   "name": "python"
  }
 },
 "nbformat": 4,
 "nbformat_minor": 2
}
