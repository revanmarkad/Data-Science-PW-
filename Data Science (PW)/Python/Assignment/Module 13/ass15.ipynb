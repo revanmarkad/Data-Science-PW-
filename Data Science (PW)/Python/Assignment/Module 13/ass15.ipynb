{
 "cells": [
  {
   "cell_type": "markdown",
   "metadata": {},
   "source": [
    "Q 15 How to install Python on Windows and set path variables?"
   ]
  },
  {
   "cell_type": "markdown",
   "metadata": {},
   "source": [
    " \n",
    "\n",
    "1. **Download Python Installer**:\n",
    "   - Go to the official Python website: [python.org](https://www.python.org/).\n",
    "   - Click on \"Downloads\" and select the latest Python version for Windows.\n",
    "\n",
    "2. **Run the Installer**:\n",
    "   - Double-click the downloaded installer file to run it.\n",
    "   - In the installer, check the box that says \"Add Python to PATH\".\n",
    "   - Click on \"Customize installation\" if you want to choose specific features or install it to a specific location.\n",
    "   - Click \"Install Now\".\n",
    "\n",
    "3. **Verify Installation**:\n",
    "   - Open Command Prompt (you can search for \"cmd\" in the Start menu).\n",
    "   - Type `python --version` or `python -V` and press Enter. This should display the installed Python version.\n",
    "\n",
    "4. **Set Path Variables Manually (if needed)**:\n",
    "   If you didn't check the \"Add Python to PATH\" box during installation, you can set the path variables manually:\n",
    "\n",
    "   - Right-click on \"This PC\" or \"Computer\" on the desktop or in File Explorer and select \"Properties\".\n",
    "   - Click on \"Advanced system settings\" on the left.\n",
    "   - Click on the \"Environment Variables\" button at the bottom.\n",
    "   - In the \"System variables\" section, find and select the \"Path\" variable, then click \"Edit\".\n",
    "   - Click \"New\" and add the path to the Python executable (e.g., `C:\\Python39` or the directory where Python was installed).\n",
    "   - Also, add the path to the `Scripts` directory (e.g., `C:\\Python39\\Scripts`).\n",
    "   - Click \"OK\" to close all dialog boxes.\n",
    "\n",
    "5. **Verify Path Setup**:\n",
    "   - Open a new Command Prompt window.\n",
    "   - Type `python --version` and `pip --version` to confirm that both Python and `pip` are recognized and the paths are set correctly.\n",
    "\n",
    " "
   ]
  },
  {
   "cell_type": "markdown",
   "metadata": {},
   "source": []
  }
 ],
 "metadata": {
  "language_info": {
   "name": "python"
  }
 },
 "nbformat": 4,
 "nbformat_minor": 2
}
