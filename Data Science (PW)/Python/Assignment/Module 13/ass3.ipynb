{
 "cells": [
  {
   "cell_type": "markdown",
   "metadata": {},
   "source": [
    "Q3 Is Python Case Sensitive when dealing with identifiers?"
   ]
  },
  {
   "cell_type": "markdown",
   "metadata": {},
   "source": [
    "Yes, Python is case-sensitive when dealing with identifiers. This means that identifiers such as `Variable`, `variable`, and `VARIABLE` would be considered distinct and different from each other."
   ]
  },
  {
   "cell_type": "markdown",
   "metadata": {},
   "source": []
  }
 ],
 "metadata": {
  "language_info": {
   "name": "python"
  }
 },
 "nbformat": 4,
 "nbformat_minor": 2
}
