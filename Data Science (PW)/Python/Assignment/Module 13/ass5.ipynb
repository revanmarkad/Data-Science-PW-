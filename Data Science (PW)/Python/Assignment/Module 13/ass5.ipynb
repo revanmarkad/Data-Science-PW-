{
 "cells": [
  {
   "cell_type": "markdown",
   "metadata": {},
   "source": [
    "Q5 is Python code compiled  or interpreted?"
   ]
  },
  {
   "cell_type": "markdown",
   "metadata": {},
   "source": [
    "Python is primarily an interpreted language. This means that Python code is executed line-by-line by an interpreter at runtime. However, Python does involve a compilation step where the source code (.py files) is compiled into bytecode (.pyc files) before being interpreted by the Python virtual machine (PVM). This bytecode compilation is usually done behind the scenes and is transparent to the user."
   ]
  },
  {
   "cell_type": "markdown",
   "metadata": {},
   "source": []
  }
 ],
 "metadata": {
  "language_info": {
   "name": "python"
  }
 },
 "nbformat": 4,
 "nbformat_minor": 2
}
