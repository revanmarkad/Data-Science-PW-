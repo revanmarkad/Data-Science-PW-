{
 "cells": [
  {
   "cell_type": "markdown",
   "metadata": {},
   "source": [
    "Q16 is indentation reqired in python?"
   ]
  },
  {
   "cell_type": "markdown",
   "metadata": {},
   "source": [
    "Yes, indentation is required in Python. It is used to define the structure and scope of code blocks such as loops, functions, and conditional statements. Proper indentation is crucial because Python uses it to determine the grouping of statements, making the code readable and ensuring it executes correctly."
   ]
  },
  {
   "cell_type": "markdown",
   "metadata": {},
   "source": []
  }
 ],
 "metadata": {
  "language_info": {
   "name": "python"
  }
 },
 "nbformat": 4,
 "nbformat_minor": 2
}
