{
 "cells": [
  {
   "cell_type": "markdown",
   "metadata": {},
   "source": [
    "Q 14 How is memory managed in python?"
   ]
  },
  {
   "cell_type": "markdown",
   "metadata": {},
   "source": [
    " \n",
    "1. **Automatic Garbage Collection**: Python uses an automatic garbage collector to manage memory. It identifies and reclaims memory that is no longer in use, preventing memory leaks.\n",
    "\n",
    "2. **Reference Counting**: Each object in Python has a reference count that tracks the number of references to it. When the reference count drops to zero, the memory occupied by the object is deallocated.\n",
    "\n",
    "3. **Dynamic Typing**: Python handles memory allocation dynamically, meaning memory is allocated at runtime as needed. This allows for flexible use of variables without needing to declare their types.\n",
    "\n",
    "4. **Memory Pools**: Python uses memory pools to manage the allocation of small objects. This improves efficiency and reduces fragmentation.\n",
    "\n",
    "5. **PyPy**: An alternative implementation of Python, PyPy, includes a Just-In-Time (JIT) compiler and more advanced garbage collection strategies for better memory management and performance optimization.\n",
    "\n",
    " "
   ]
  }
 ],
 "metadata": {
  "language_info": {
   "name": "python"
  }
 },
 "nbformat": 4,
 "nbformat_minor": 2
}
