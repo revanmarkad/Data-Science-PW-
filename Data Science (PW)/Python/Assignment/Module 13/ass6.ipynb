{
 "cells": [
  {
   "cell_type": "markdown",
   "metadata": {},
   "source": [
    "Q6 Name a few blocks of code used to define in python Language?"
   ]
  },
  {
   "cell_type": "markdown",
   "metadata": {},
   "source": [
    "1. Function \n",
    "2. Class  \n",
    "3. Conditional Statements\n",
    "4. Loop Statements\n",
    " "
   ]
  },
  {
   "cell_type": "markdown",
   "metadata": {},
   "source": []
  }
 ],
 "metadata": {
  "language_info": {
   "name": "python"
  }
 },
 "nbformat": 4,
 "nbformat_minor": 2
}
