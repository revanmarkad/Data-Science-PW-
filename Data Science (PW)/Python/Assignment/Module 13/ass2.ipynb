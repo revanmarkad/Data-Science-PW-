{
 "cells": [
  {
   "cell_type": "markdown",
   "metadata": {},
   "source": [
    "Q2 Which type of Programming does Python support?"
   ]
  },
  {
   "cell_type": "markdown",
   "metadata": {},
   "source": [
    " \n",
    "\n",
    "1. **Imperative Programming**: Using statements to change a program's state.\n",
    "2. **Object-Oriented Programming (OOP)**: Organizing code into objects with attributes and methods.\n",
    "3. **Functional Programming**: Using functions as first-class citizens and supporting higher-order functions and pure functions.\n",
    "4. **Procedural Programming**: Writing procedures or routines to perform tasks.\n",
    "\n",
    "Python's flexibility in supporting these paradigms makes it a versatile and widely-used programming language."
   ]
  },
  {
   "cell_type": "markdown",
   "metadata": {},
   "source": []
  }
 ],
 "metadata": {
  "language_info": {
   "name": "python"
  }
 },
 "nbformat": 4,
 "nbformat_minor": 2
}
