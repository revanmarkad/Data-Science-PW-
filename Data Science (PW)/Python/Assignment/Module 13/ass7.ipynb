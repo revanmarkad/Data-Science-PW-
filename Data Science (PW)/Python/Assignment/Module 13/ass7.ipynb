{
 "cells": [
  {
   "cell_type": "markdown",
   "metadata": {},
   "source": [
    "Q 7 State a character used to give single-line  comment in Pyton language?"
   ]
  },
  {
   "cell_type": "markdown",
   "metadata": {},
   "source": [
    "The character used to give a single-line comment in Python is the hash symbol (`#`)."
   ]
  },
  {
   "cell_type": "markdown",
   "metadata": {},
   "source": []
  }
 ],
 "metadata": {
  "language_info": {
   "name": "python"
  }
 },
 "nbformat": 4,
 "nbformat_minor": 2
}
