{
 "cells": [
  {
   "cell_type": "markdown",
   "metadata": {},
   "source": [
    "Q1  What is an API? Give an example , where an API is used in real life."
   ]
  },
  {
   "cell_type": "markdown",
   "metadata": {},
   "source": [
    "An **API** (Application Programming Interface) is a set of rules and protocols that allows different software applications to communicate with each other. It defines how requests and responses should be formatted so that systems can exchange data.\n",
    " \n",
    "\n",
    "**Weather Apps**: Many weather apps use APIs to get real-time weather data. For example, a weather app can send a request to the OpenWeatherMap API to get the current weather for a specific location. The API responds with data like temperature and weather conditions, which the app then displays to the user.\n",
    "\n",
    "APIs enable software to access features or data of other services, such as payment processing, social media interactions, or map integrations, making it easier to build powerful applications."
   ]
  },
  {
   "cell_type": "markdown",
   "metadata": {},
   "source": []
  }
 ],
 "metadata": {
  "language_info": {
   "name": "python"
  }
 },
 "nbformat": 4,
 "nbformat_minor": 2
}
