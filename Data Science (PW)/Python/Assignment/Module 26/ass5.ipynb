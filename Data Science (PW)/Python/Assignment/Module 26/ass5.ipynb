{
 "cells": [
  {
   "cell_type": "markdown",
   "metadata": {},
   "source": [
    "Q 5 Differentaatiate between Rest and SOAP."
   ]
  },
  {
   "cell_type": "markdown",
   "metadata": {},
   "source": [
    " \n",
    "\n",
    "### REST (Representational State Transfer)\n",
    "\n",
    "1. **Architecture Style**:\n",
    "   - REST is an architectural style, not a protocol.\n",
    "   - It is based on stateless communication and uses standard HTTP methods (GET, POST, PUT, DELETE).\n",
    "\n",
    "2. **Data Format**:\n",
    "   - Primarily uses JSON for data interchange, but can also use XML, HTML, or plain text.\n",
    "   - JSON is lightweight and easier to parse, especially for web applications.\n",
    "\n",
    "3. **Communication**:\n",
    "   - Utilizes URLs to access resources and is resource-based.\n",
    "   - Stateless communication means each request contains all necessary information.\n",
    "\n",
    "4. **Flexibility**:\n",
    "   - More flexible and easier to integrate with web technologies.\n",
    "   - Can be cached for better performance.\n",
    "\n",
    "5. **Security**:\n",
    "   - Relies on underlying HTTP security measures, such as SSL/TLS for encryption and OAuth for authorization.\n",
    "\n",
    "6. **Use Cases**:\n",
    "   - Ideal for web applications, mobile applications, and services requiring quick, lightweight interactions.\n",
    "\n",
    "### SOAP (Simple Object Access Protocol)\n",
    "\n",
    "1. **Protocol**:\n",
    "   - SOAP is a protocol with a strict set of standards.\n",
    "   - Defines its own security and transaction compliance, making it more rigid.\n",
    "\n",
    "2. **Data Format**:\n",
    "   - Exclusively uses XML for message formatting.\n",
    "   - XML can be verbose and slower to parse compared to JSON.\n",
    "\n",
    "3. **Communication**:\n",
    "   - Uses a complex set of standards like WS-Security, WS-AtomicTransaction, and more.\n",
    "   - Supports both stateful and stateless operations.\n",
    "\n",
    "4. **Flexibility**:\n",
    "   - Less flexible due to its strict standards.\n",
    "   - More complex to implement and requires more setup and maintenance.\n",
    "\n",
    "5. **Security**:\n",
    "   - Built-in standards for security (WS-Security) and transactional reliability.\n",
    "\n",
    "6. **Use Cases**:\n",
    "   - Suitable for enterprise-level applications requiring robust security, transaction handling, and reliability (e.g., financial services, payment processing).\n",
    "\n",
    " "
   ]
  },
  {
   "cell_type": "markdown",
   "metadata": {},
   "source": []
  }
 ],
 "metadata": {
  "language_info": {
   "name": "python"
  }
 },
 "nbformat": 4,
 "nbformat_minor": 2
}
