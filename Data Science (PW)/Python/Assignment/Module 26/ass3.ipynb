{
 "cells": [
  {
   "cell_type": "markdown",
   "metadata": {},
   "source": [
    "Q 3 What is web API ? Differentiate between API and Web_API."
   ]
  },
  {
   "cell_type": "markdown",
   "metadata": {},
   "source": [
    "A **Web API** is a specific type of API that is accessed over the web using HTTP protocols. It allows different applications or services to communicate with each other over the internet or within a network.\n",
    "\n",
    "### Key Features of Web APIs\n",
    "\n",
    "- **HTTP Protocol**: Web APIs use HTTP/HTTPS for communication, allowing them to be accessed over the internet.\n",
    "- **Stateless**: Typically designed to be stateless, meaning each request from a client contains all the information needed to process it.\n",
    "- **Data Formats**: Commonly use formats like JSON or XML for data exchange, making them lightweight and easy to parse.\n",
    "- **Resource-Oriented**: Often follow REST principles, where resources are identified by URLs and manipulated using standard HTTP methods (GET, POST, PUT, DELETE).\n",
    "\n",
    "### API vs. Web API\n",
    "\n",
    "While both APIs and Web APIs serve to enable interaction between different software components, they differ in scope and functionality:\n",
    "\n",
    "#### API (Application Programming Interface)\n",
    "\n",
    "- **Scope**: APIs can refer to any interface that allows one software application to interact with another, not limited to web-based communication. This includes libraries, operating systems, hardware interfaces, and more.\n",
    "- **Communication**: APIs may involve different forms of communication and protocols, including local or system-based interactions (e.g., library calls or system APIs).\n",
    "- **Use Cases**: Can be used for a wide range of purposes, such as accessing operating system features, interfacing with hardware, or integrating software libraries.\n",
    "\n",
    "#### Web API\n",
    "\n",
    "- **Scope**: Specifically designed to be accessed over the web using HTTP/HTTPS protocols.\n",
    "- **Communication**: Primarily involves web-based communication, allowing different applications to interact over the internet.\n",
    "- **Use Cases**: Commonly used for web services, enabling applications to access web-based resources, data, and services (e.g., social media integrations, payment gateways).\n",
    "\n",
    " \n",
    "\n",
    " "
   ]
  },
  {
   "cell_type": "markdown",
   "metadata": {},
   "source": []
  }
 ],
 "metadata": {
  "language_info": {
   "name": "python"
  }
 },
 "nbformat": 4,
 "nbformat_minor": 2
}
