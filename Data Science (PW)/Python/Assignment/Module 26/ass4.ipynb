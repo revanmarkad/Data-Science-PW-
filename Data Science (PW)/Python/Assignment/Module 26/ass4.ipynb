{
 "cells": [
  {
   "cell_type": "markdown",
   "metadata": {},
   "source": [
    "Q 4 Explain REST and SOAP Architecture.Mention shortcomings of SOAP."
   ]
  },
  {
   "cell_type": "markdown",
   "metadata": {},
   "source": [
    "### REST Architecture\n",
    "\n",
    "**Overview:**\n",
    "- REST (Representational State Transfer) is an architectural style that uses standard HTTP methods (GET, POST, PUT, DELETE) for communication.\n",
    "- It is stateless and resource-based, with each resource identified by a URI.\n",
    "- Typically uses JSON or XML for data interchange.\n",
    "\n",
    "**Advantages:**\n",
    "- Simplicity and ease of use.\n",
    "- Scalability and flexibility.\n",
    "- Widely supported and easily integrated with web technologies.\n",
    "\n",
    "### SOAP Architecture\n",
    "\n",
    "**Overview:**\n",
    "- SOAP (Simple Object Access Protocol) is a protocol that uses XML for message formatting.\n",
    "- It is designed to handle complex operations and supports features like transactions and security.\n",
    "\n",
    "**Shortcomings of SOAP:**\n",
    "1. **Complexity**: More complex due to its strict standards.\n",
    "2. **Performance Overhead**: XML-based messaging can be slower and result in larger message sizes.\n",
    "3. **Tight Coupling**: Leads to tighter coupling between client and server due to strict contracts.\n",
    "4. **Limited Browser Support**: Not as easily supported by web browsers as REST.\n",
    "5. **Slower Development**: Requires more configuration and setup, leading to slower development times.\n"
   ]
  },
  {
   "cell_type": "markdown",
   "metadata": {},
   "source": []
  }
 ],
 "metadata": {
  "language_info": {
   "name": "python"
  }
 },
 "nbformat": 4,
 "nbformat_minor": 2
}
