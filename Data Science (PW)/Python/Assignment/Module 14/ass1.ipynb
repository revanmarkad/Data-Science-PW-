{
 "cells": [
  {
   "cell_type": "markdown",
   "metadata": {},
   "source": [
    "Q1 create a function which will take a list as a argument and return the product of all numbers after a creating flat list."
   ]
  },
  {
   "cell_type": "code",
   "execution_count": 2,
   "metadata": {},
   "outputs": [
    {
     "name": "stdout",
     "output_type": "stream",
     "text": [
      "0\n"
     ]
    }
   ],
   "source": [
    "def flatten_and_multiply(input_list):\n",
    "    def flatten(items):\n",
    "        flat_list = []\n",
    "        for item in items:\n",
    "            if isinstance(item, dict):\n",
    "                for value in item.values():\n",
    "                    if isinstance(value, (list, tuple, set, dict)):\n",
    "                        flat_list.extend(flatten(value))\n",
    "                    elif isinstance(value, (int, float)):\n",
    "                        flat_list.append(value)\n",
    "            elif isinstance(item, (list, tuple, set)):\n",
    "                flat_list.extend(flatten(item))\n",
    "            elif isinstance(item, (int, float)):\n",
    "                flat_list.append(item)\n",
    "        return flat_list\n",
    "\n",
    "    flat_list = flatten(input_list)\n",
    "    product = 1\n",
    "    for number in flat_list:\n",
    "        product *= number\n",
    "\n",
    "    return product\n",
    "\n",
    "list1 = [1, 2, 3, 4, [44, 55, 66, True], False, (34, 56, 78, 89, 34), {1, 2, 3, 3, 2, 1}, {1: 34, \"key2\": [55, 67, 78, 89], 4: (45, 22, 61, 34)}, [56, 'data science'], 'Machine Learning']\n",
    "\n",
    "print(flatten_and_multiply(list1))"
   ]
  }
 ],
 "metadata": {
  "kernelspec": {
   "display_name": "Python 3",
   "language": "python",
   "name": "python3"
  },
  "language_info": {
   "codemirror_mode": {
    "name": "ipython",
    "version": 3
   },
   "file_extension": ".py",
   "mimetype": "text/x-python",
   "name": "python",
   "nbconvert_exporter": "python",
   "pygments_lexer": "ipython3",
   "version": "3.12.2"
  }
 },
 "nbformat": 4,
 "nbformat_minor": 2
}
