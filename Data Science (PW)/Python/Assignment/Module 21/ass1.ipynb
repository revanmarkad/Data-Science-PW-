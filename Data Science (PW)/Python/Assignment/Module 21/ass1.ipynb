{
 "cells": [
  {
   "cell_type": "markdown",
   "metadata": {},
   "source": [
    "Q1 Explain Why we have to use the Exceptions class while creating a Custom Exception?"
   ]
  },
  {
   "cell_type": "markdown",
   "metadata": {},
   "source": [
    "When creating a custom exception, you should use the `Exception` class because:\n",
    "\n",
    "1. **Integration**: It ensures your custom exception works smoothly with the language's error-handling system.\n",
    "2. **Catchability**: It allows your custom exception to be caught using general `except` clauses.\n",
    "3. **Inheritance Benefits**: You get useful methods and properties for free, making your custom exception more powerful.\n",
    "4. **Readability**: It makes your code easier to understand, showing clearly that it's an error type.\n",
    "5. **Standard Behavior**: It ensures your custom exception behaves like other exceptions in the language.\n",
    "\n",
    " "
   ]
  },
  {
   "cell_type": "markdown",
   "metadata": {},
   "source": []
  }
 ],
 "metadata": {
  "language_info": {
   "name": "python"
  }
 },
 "nbformat": 4,
 "nbformat_minor": 2
}
