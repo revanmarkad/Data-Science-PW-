{
 "cells": [
  {
   "cell_type": "markdown",
   "metadata": {},
   "source": [
    "Q2 Write a python program to print python Exception Hierarchy?"
   ]
  },
  {
   "cell_type": "code",
   "execution_count": 1,
   "metadata": {},
   "outputs": [
    {
     "name": "stdout",
     "output_type": "stream",
     "text": [
      "ArithmeticError\n",
      "AssertionError\n",
      "AttributeError\n",
      "BaseException\n",
      "BaseExceptionGroup\n",
      "BlockingIOError\n",
      "BrokenPipeError\n",
      "BufferError\n",
      "BytesWarning\n",
      "ChildProcessError\n",
      "ConnectionAbortedError\n",
      "ConnectionError\n",
      "ConnectionRefusedError\n",
      "ConnectionResetError\n",
      "DeprecationWarning\n",
      "EOFError\n",
      "EncodingWarning\n",
      "EnvironmentError\n",
      "Exception\n",
      "ExceptionGroup\n",
      "FileExistsError\n",
      "FileNotFoundError\n",
      "FloatingPointError\n",
      "FutureWarning\n",
      "GeneratorExit\n",
      "IOError\n",
      "ImportError\n",
      "ImportWarning\n",
      "IndentationError\n",
      "IndexError\n",
      "InterruptedError\n",
      "IsADirectoryError\n",
      "KeyError\n",
      "KeyboardInterrupt\n",
      "LookupError\n",
      "MemoryError\n",
      "ModuleNotFoundError\n",
      "NameError\n",
      "NotADirectoryError\n",
      "NotImplementedError\n",
      "OSError\n",
      "OverflowError\n",
      "PendingDeprecationWarning\n",
      "PermissionError\n",
      "ProcessLookupError\n",
      "RecursionError\n",
      "ReferenceError\n",
      "ResourceWarning\n",
      "RuntimeError\n",
      "RuntimeWarning\n",
      "StopAsyncIteration\n",
      "StopIteration\n",
      "SyntaxError\n",
      "SyntaxWarning\n",
      "SystemError\n",
      "SystemExit\n",
      "TabError\n",
      "TimeoutError\n",
      "TypeError\n",
      "UnboundLocalError\n",
      "UnicodeDecodeError\n",
      "UnicodeEncodeError\n",
      "UnicodeError\n",
      "UnicodeTranslateError\n",
      "UnicodeWarning\n",
      "UserWarning\n",
      "ValueError\n",
      "Warning\n",
      "WindowsError\n",
      "ZeroDivisionError\n"
     ]
    }
   ],
   "source": [
    "import inspect\n",
    "\n",
    "def print_exception_hierarchy():\n",
    "    for name, obj in inspect.getmembers(__builtins__):\n",
    "        if inspect.isclass(obj) and issubclass(obj, BaseException):\n",
    "            print(name)\n",
    "\n",
    "print_exception_hierarchy()\n"
   ]
  }
 ],
 "metadata": {
  "kernelspec": {
   "display_name": "Python 3",
   "language": "python",
   "name": "python3"
  },
  "language_info": {
   "codemirror_mode": {
    "name": "ipython",
    "version": 3
   },
   "file_extension": ".py",
   "mimetype": "text/x-python",
   "name": "python",
   "nbconvert_exporter": "python",
   "pygments_lexer": "ipython3",
   "version": "3.12.2"
  }
 },
 "nbformat": 4,
 "nbformat_minor": 2
}
