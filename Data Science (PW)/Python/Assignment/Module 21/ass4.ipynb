{
 "cells": [
  {
   "cell_type": "markdown",
   "metadata": {},
   "source": [
    "Q 4 Why LookupError class is used ? Explain with an example keyError and index Error."
   ]
  },
  {
   "cell_type": "markdown",
   "metadata": {},
   "source": [
    "\n",
    "The LookupError class in Python is a base class for all errors related to lookup operations. This class is primarily used to handle exceptions that occur during the process of looking up an item in a collection, such as lists, dictionaries, or sets. The LookupError class is not commonly used directly in most code, but it serves as a base class for more specific exceptions like:\n",
    "\n",
    "IndexError: Raised when a sequence subscript is out of range.\n",
    "\n",
    "KeyError: Raised when a dictionary key is not found.\n",
    "\n",
    "AttributeError: Raised when an attribute reference or assignment fails."
   ]
  },
  {
   "cell_type": "code",
   "execution_count": 3,
   "metadata": {},
   "outputs": [
    {
     "name": "stdout",
     "output_type": "stream",
     "text": [
      "'key21'\n"
     ]
    }
   ],
   "source": [
    "#key error\n",
    "\n",
    "try:\n",
    "    d={'key':6776,1:[78,89,5]}\n",
    "    \n",
    "    print(d['key21'])\n",
    "except KeyError as e:\n",
    "    print(e)\n",
    "    "
   ]
  },
  {
   "cell_type": "code",
   "execution_count": 4,
   "metadata": {},
   "outputs": [
    {
     "name": "stdout",
     "output_type": "stream",
     "text": [
      "list index out of range\n"
     ]
    }
   ],
   "source": [
    "# index error\n",
    "\n",
    "try:\n",
    "    \n",
    "    a=[1,2,3,4,5]\n",
    "    print(a[10])\n",
    "except IndexError as e:\n",
    "    print(e)\n",
    "\n"
   ]
  }
 ],
 "metadata": {
  "kernelspec": {
   "display_name": "Python 3",
   "language": "python",
   "name": "python3"
  },
  "language_info": {
   "codemirror_mode": {
    "name": "ipython",
    "version": 3
   },
   "file_extension": ".py",
   "mimetype": "text/x-python",
   "name": "python",
   "nbconvert_exporter": "python",
   "pygments_lexer": "ipython3",
   "version": "3.12.2"
  }
 },
 "nbformat": 4,
 "nbformat_minor": 2
}
