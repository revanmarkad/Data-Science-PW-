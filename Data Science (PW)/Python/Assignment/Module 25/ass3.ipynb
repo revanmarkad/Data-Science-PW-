{
 "cells": [
  {
   "cell_type": "markdown",
   "metadata": {},
   "source": [
    "Q 3 Write a code to connect MongoDb to python , also create a database and collection in MongoDb."
   ]
  },
  {
   "cell_type": "markdown",
   "metadata": {},
   "source": [
    " \n",
    "\n",
    "```python\n",
    "from pymongo import MongoClient\n",
    "\n",
    "# Connect to MongoDB\n",
    "client = MongoClient(\"mongodb://localhost:27017/\")\n",
    "\n",
    "# Create a Database\n",
    "db = client[\"ecommerce_db\"]\n",
    "\n",
    "# Create a Collection\n",
    "customers_collection = db[\"customers\"]\n",
    "\n",
    "# Insert a Document\n",
    "customer = {\n",
    "    \"first_name\": \"Alice\",\n",
    "    \"last_name\": \"Smith\",\n",
    "    \"email\": \"alice.smith@example.com\",\n",
    "    \"address\": {\n",
    "        \"street\": \"123 Maple Street\",\n",
    "        \"city\": \"Wonderland\",\n",
    "        \"zip\": \"12345\"\n",
    "    },\n",
    "    \"orders\": [\n",
    "        {\n",
    "            \"order_id\": \"A001\",\n",
    "            \"product\": \"Laptop\",\n",
    "            \"amount\": 1200.00,\n",
    "            \"date\": \"2023-01-15\"\n",
    "        },\n",
    "        {\n",
    "            \"order_id\": \"A002\",\n",
    "            \"product\": \"Smartphone\",\n",
    "            \"amount\": 800.00,\n",
    "            \"date\": \"2023-02-20\"\n",
    "        }\n",
    "    ]\n",
    "}\n",
    "\n",
    "# Insert the customer document into the collection\n",
    "insert_result = customers_collection.insert_one(customer)\n",
    "\n",
    "# Print the inserted document ID\n",
    "print(f\"Customer inserted with ID: {insert_result.inserted_id}\")\n",
    "\n",
    "# Retrieve and print all documents in the collection\n",
    "for doc in customers_collection.find():\n",
    "    print(doc)\n",
    "```\n",
    "\n",
    "This code snippet creates an `ecommerce_db` database and a `customers` collection, inserts a customer document with orders, and then retrieves and prints all documents from the `customers` collection."
   ]
  },
  {
   "cell_type": "markdown",
   "metadata": {},
   "source": []
  }
 ],
 "metadata": {
  "language_info": {
   "name": "python"
  }
 },
 "nbformat": 4,
 "nbformat_minor": 2
}
