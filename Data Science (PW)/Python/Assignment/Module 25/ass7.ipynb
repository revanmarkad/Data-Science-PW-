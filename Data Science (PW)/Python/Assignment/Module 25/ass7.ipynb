{
 "cells": [
  {
   "cell_type": "markdown",
   "metadata": {},
   "source": [
    "Q 7 Explain why delete_one(),delete_many() and drop() is used."
   ]
  },
  {
   "cell_type": "markdown",
   "metadata": {},
   "source": [
    "### `delete_one()`, `delete_many()`, and `drop()` in MongoDB\n",
    "\n",
    " \n",
    "\n",
    "1. **`delete_one()`**:\n",
    "   - **Purpose**: Deletes a single document that matches the specified filter.\n",
    "   - **Usage**: Use when you need to remove exactly one document from a collection.\n",
    "   - **Example**:\n",
    "     ```python\n",
    "     result = customers_collection.delete_one({\"first_name\": \"Alice\"})\n",
    "     print(f\"Documents deleted: {result.deleted_count}\")\n",
    "     ```\n",
    "   - **Explanation**: This command deletes the first document that matches the filter `{\"first_name\": \"Alice\"}`.\n",
    "\n",
    "2. **`delete_many()`**:\n",
    "   - **Purpose**: Deletes multiple documents that match the specified filter.\n",
    "   - **Usage**: Use when you need to remove multiple documents from a collection.\n",
    "   - **Example**:\n",
    "     ```python\n",
    "     result = customers_collection.delete_many({\"age\": {\"$lt\": 30}})\n",
    "     print(f\"Documents deleted: {result.deleted_count}\")\n",
    "     ```\n",
    "   - **Explanation**: This command deletes all documents where the `age` field is less than 30.\n",
    "\n",
    "3. **`drop()`**:\n",
    "   - **Purpose**: Removes an entire collection from the database.\n",
    "   - **Usage**: Use when you need to delete all documents in a collection and remove the collection itself.\n",
    "   - **Example**:\n",
    "     ```python\n",
    "     customers_collection.drop()\n",
    "     print(\"Collection dropped\")\n",
    "     ```\n",
    "   - **Explanation**: This command deletes the `customers` collection along with all its documents.\n",
    "\n",
    "### Summary\n",
    "\n",
    "- **`delete_one()`**: Removes a single matching document.\n",
    "- **`delete_many()`**: Removes multiple matching documents.\n",
    "- **`drop()`**: Deletes the entire collection."
   ]
  }
 ],
 "metadata": {
  "language_info": {
   "name": "python"
  }
 },
 "nbformat": 4,
 "nbformat_minor": 2
}
