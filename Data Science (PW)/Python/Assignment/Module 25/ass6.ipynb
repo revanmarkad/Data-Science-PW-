{
 "cells": [
  {
   "cell_type": "markdown",
   "metadata": {},
   "source": [
    "Q 6 Explain the sort() method. Give an example to demonstrate sorting in MongoDb."
   ]
  },
  {
   "cell_type": "markdown",
   "metadata": {},
   "source": [
    "### `sort()` Method in MongoDB\n",
    "\n",
    "The `sort()` method in MongoDB is used to sort the documents in the result set of a query. It allows you to specify the fields by which to sort and the order of sorting (ascending or descending).\n",
    "\n",
    "### Syntax\n",
    "\n",
    "```python\n",
    "cursor.sort(field, direction)\n",
    "```\n",
    "\n",
    "- **field**: The field by which to sort the documents.\n",
    "- **direction**: The direction of sorting. Use `1` for ascending order and `-1` for descending order.\n",
    "\n",
    "### Example Code\n",
    "\n",
    "Here's a simple example to demonstrate sorting in MongoDB:\n",
    "\n",
    "```python\n",
    "from pymongo import MongoClient\n",
    "\n",
    " \n",
    "client = MongoClient(\"mongodb://localhost:27017/\")\n",
    "db = client[\"ecommerce_db\"]\n",
    "customers_collection = db[\"customers\"]\n",
    "\n",
    " \n",
    "sample_data = [\n",
    "    {\"first_name\": \"Alice\", \"last_name\": \"Smith\", \"age\": 28},\n",
    "    {\"first_name\": \"Bob\", \"last_name\": \"Brown\", \"age\": 34},\n",
    "    {\"first_name\": \"Charlie\", \"last_name\": \"Clark\", \"age\": 29},\n",
    "    {\"first_name\": \"Diana\", \"last_name\": \"Davis\", \"age\": 25}\n",
    "]\n",
    " \n",
    "print(\"Customers Sorted by Age (Ascending):\")\n",
    "for doc in customers_collection.find().sort(\"age\", 1):\n",
    "    print(doc)\n",
    "\n",
    " \n",
    "print(\"\\nCustomers Sorted by Last Name (Descending):\")\n",
    "for doc in customers_collection.find().sort(\"last_name\", -1):\n",
    "    print(doc)\n",
    "```\n",
    "\n",
    "### Explanation\n",
    "\n",
    "1. **Sort by Age (Ascending)**:\n",
    "   ```python\n",
    "   for doc in customers_collection.find().sort(\"age\", 1):\n",
    "       print(doc)\n",
    "   ```\n",
    "   Retrieves and prints documents sorted by the `age` field in ascending order.\n",
    "\n",
    "2. **Sort by Last Name (Descending)**:\n",
    "   ```python\n",
    "   for doc in customers_collection.find().sort(\"last_name\", -1):\n",
    "       print(doc)\n",
    "   ```\n",
    "   Retrieves and prints documents sorted by the `last_name` field in descending order.\n",
    "\n",
    "By using the `sort()` method, you can control the order in which documents are returned in the query result, making it easier to display or process data in a specific order."
   ]
  }
 ],
 "metadata": {
  "language_info": {
   "name": "python"
  }
 },
 "nbformat": 4,
 "nbformat_minor": 2
}
