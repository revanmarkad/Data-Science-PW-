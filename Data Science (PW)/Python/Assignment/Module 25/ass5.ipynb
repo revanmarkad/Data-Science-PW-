{
 "cells": [
  {
   "cell_type": "markdown",
   "metadata": {},
   "source": [
    "Q 5 Explain haw  you can use thee find()  method to query the MongoDb database. Write a simple code to demonstrate this."
   ]
  },
  {
   "cell_type": "markdown",
   "metadata": {},
   "source": [
    "### Using the `find()` Method in MongoDB\n",
    "\n",
    "The `find()` method retrieves multiple documents from a MongoDB collection based on specified criteria. Below is a concise example demonstrating basic queries, field selection, sorting, and limiting.\n",
    "\n",
    "### Example Code\n",
    "\n",
    "```python\n",
    "from pymongo import MongoClient\n",
    "\n",
    " \n",
    "client = MongoClient(\"mongodb://localhost:27017/\")\n",
    "db = client[\"ecommerce_db\"]\n",
    "customers_collection = db[\"customers\"]\n",
    "\n",
    " \n",
    "print(\"All Documents:\")\n",
    "for doc in customers_collection.find():\n",
    "    print(doc)\n",
    "\n",
    " \n",
    "print(\"\\nCustomers with Age > 30:\")\n",
    "for doc in customers_collection.find({\"age\": {\"$gt\": 30}}):\n",
    "    print(doc)\n",
    " \n",
    "print(\"\\nCustomers with Selected Fields:\")\n",
    "for doc in customers_collection.find({}, {\"_id\": 0, \"first_name\": 1, \"email\": 1}):\n",
    "    print(doc)\n",
    "\n",
    " \n",
    "print(\"\\nCustomers Sorted by Age (Descending):\")\n",
    "for doc in customers_collection.find().sort(\"age\", -1):\n",
    "    print(doc)\n",
    " \n",
    "print(\"\\nCustomers with Skipping and Limiting:\")\n",
    "for doc in customers_collection.find().skip(1).limit(2):\n",
    "    print(doc)\n",
    "```\n",
    "\n",
    " "
   ]
  }
 ],
 "metadata": {
  "language_info": {
   "name": "python"
  }
 },
 "nbformat": 4,
 "nbformat_minor": 2
}
