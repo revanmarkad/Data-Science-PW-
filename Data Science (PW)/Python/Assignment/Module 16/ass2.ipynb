{
 "cells": [
  {
   "cell_type": "markdown",
   "metadata": {},
   "source": [
    "Q2 Differentiate between Abstraction and Encapsulation.Explain with an example."
   ]
  },
  {
   "cell_type": "markdown",
   "metadata": {},
   "source": [
    "**Abstraction** hides complex implementation details and shows only essential features, focusing on what an object does.\n",
    "\n",
    "**Encapsulation** bundles data and methods together and restricts direct access to some components, focusing on how data is protected and accessed.\n",
    "\n",
    "**Example**:\n",
    "- **Abstraction**: A `Car` class exposes methods like `drive()` without showing how the engine starts.\n",
    "- **Encapsulation**: The `Car` class has a private attribute `__speed` with getter and setter methods to control access and modification."
   ]
  },
  {
   "cell_type": "code",
   "execution_count": 4,
   "metadata": {},
   "outputs": [],
   "source": [
    "class Car:\n",
    "    def start_engine(self):\n",
    "         \n",
    "        print(\"Engine started\")\n",
    "\n",
    "    def drive(self):\n",
    "        self.start_engine()\n",
    "       \n",
    "        print(\"Car is driving\")\n"
   ]
  },
  {
   "cell_type": "code",
   "execution_count": 3,
   "metadata": {},
   "outputs": [],
   "source": [
    "class Car:\n",
    "    def __init__(self, brand, model):\n",
    "        self.brand = brand\n",
    "        self.model = model\n",
    "        self.__speed = 0   \n",
    "\n",
    "    def set_speed(self, speed):\n",
    "        if speed >= 0:\n",
    "            self.__speed = speed\n",
    "        else:\n",
    "            print(\"Speed cannot be negative\")\n",
    "\n",
    "    def get_speed(self):\n",
    "        return self.__speed\n",
    "\n",
    "    def drive(self):\n",
    "        self.set_speed(60)\n",
    "        print(f\"Car is driving at {self.get_speed()} km/h\")\n"
   ]
  }
 ],
 "metadata": {
  "kernelspec": {
   "display_name": "Python 3",
   "language": "python",
   "name": "python3"
  },
  "language_info": {
   "codemirror_mode": {
    "name": "ipython",
    "version": 3
   },
   "file_extension": ".py",
   "mimetype": "text/x-python",
   "name": "python",
   "nbconvert_exporter": "python",
   "pygments_lexer": "ipython3",
   "version": "3.12.2"
  }
 },
 "nbformat": 4,
 "nbformat_minor": 2
}
