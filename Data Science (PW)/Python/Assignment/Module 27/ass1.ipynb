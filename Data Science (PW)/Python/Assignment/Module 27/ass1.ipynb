{
 "cells": [
  {
   "cell_type": "markdown",
   "metadata": {},
   "source": [
    "Q1 What is flask Feamework? What are the advantages of flask Framework?"
   ]
  },
  {
   "cell_type": "markdown",
   "metadata": {},
   "source": [
    "### Flask Framework\n",
    "\n",
    "**Flask** is a lightweight, micro web framework for Python that allows developers to build web applications quickly and easily.\n",
    "\n",
    "### Advantages of Flask\n",
    "\n",
    "1. **Simplicity**: Easy to learn and use, ideal for small projects.\n",
    "2. **Flexibility**: Allows developers to choose their own tools and libraries.\n",
    "3. **Lightweight**: Minimal footprint, fast and efficient.\n",
    "4. **Extensible**: Supports many third-party extensions for added functionality.\n",
    "5. **Good Documentation**: Comprehensive resources and a large community.\n",
    "6. **RESTful**: Well-suited for creating RESTful APIs.\n",
    "7. **Scalable**: Suitable for small to medium-sized applications, with potential for scaling."
   ]
  }
 ],
 "metadata": {
  "language_info": {
   "name": "python"
  }
 },
 "nbformat": 4,
 "nbformat_minor": 2
}
