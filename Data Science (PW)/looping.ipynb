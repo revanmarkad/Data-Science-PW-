{
 "cells": [
  {
   "cell_type": "code",
   "execution_count": 13,
   "metadata": {},
   "outputs": [],
   "source": [
    "ls=[1,2,3,4,5,6,7,8]\n",
    "ls1=[]"
   ]
  },
  {
   "cell_type": "code",
   "execution_count": 15,
   "metadata": {},
   "outputs": [
    {
     "name": "stdout",
     "output_type": "stream",
     "text": [
      "[2, 3, 4, 5, 6, 7, 8, 9, 2, 3, 4, 5, 6, 7, 8, 9]\n"
     ]
    }
   ],
   "source": [
    "for i in ls:\n",
    "    ls1.append(i+1)\n",
    "print(ls1)\n",
    "   \n",
    "    "
   ]
  },
  {
   "cell_type": "code",
   "execution_count": 21,
   "metadata": {},
   "outputs": [],
   "source": [
    "# upper\n",
    "str=['rev','markad','madhi']\n",
    "nStr=[]"
   ]
  },
  {
   "cell_type": "code",
   "execution_count": 22,
   "metadata": {},
   "outputs": [
    {
     "name": "stdout",
     "output_type": "stream",
     "text": [
      "['REV', 'MARKAD', 'MADHI']\n"
     ]
    }
   ],
   "source": [
    "for i in str:\n",
    "    nStr.append(i.upper())\n",
    "print(nStr)"
   ]
  },
  {
   "cell_type": "code",
   "execution_count": 23,
   "metadata": {},
   "outputs": [],
   "source": [
    "\n",
    "lst=[43,'rev',67,'mar','str',21,54,32]"
   ]
  },
  {
   "cell_type": "code",
   "execution_count": 26,
   "metadata": {},
   "outputs": [
    {
     "name": "stdout",
     "output_type": "stream",
     "text": [
      "[43, 67, 21, 54, 32]\n",
      "['rev', 'mar', 'str']\n"
     ]
    }
   ],
   "source": [
    "lp1=[]\n",
    "lp2=[]\n",
    "\n",
    "\n",
    "for i in lst:\n",
    "    if type(i)==int or type(i)== float:\n",
    "        lp1.append(i)\n",
    "    else:\n",
    "        lp2.append(i)\n",
    "print(lp1)\n",
    "print(lp2)\n",
    "        "
   ]
  },
  {
   "cell_type": "code",
   "execution_count": 31,
   "metadata": {},
   "outputs": [
    {
     "name": "stdout",
     "output_type": "stream",
     "text": [
      "12\n",
      "76\n",
      "65\n",
      "12\n",
      "89\n"
     ]
    }
   ],
   "source": [
    "evn=[12,34,76,12,65,32,12,34,89,4]\n",
    "\n",
    "for i in range(0,len(evn),2):\n",
    "    print(evn[i])"
   ]
  }
 ],
 "metadata": {
  "kernelspec": {
   "display_name": "Python 3",
   "language": "python",
   "name": "python3"
  },
  "language_info": {
   "codemirror_mode": {
    "name": "ipython",
    "version": 3
   },
   "file_extension": ".py",
   "mimetype": "text/x-python",
   "name": "python",
   "nbconvert_exporter": "python",
   "pygments_lexer": "ipython3",
   "version": "3.12.2"
  }
 },
 "nbformat": 4,
 "nbformat_minor": 2
}
